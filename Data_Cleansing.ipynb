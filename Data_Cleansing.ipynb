{
 "cells": [
  {
   "cell_type": "code",
   "execution_count": 1,
   "metadata": {},
   "outputs": [],
   "source": [
    "import pandas as pd\n",
    "import numpy as np\n",
    "import matplotlib.pyplot as plt\n",
    "plt.style.use('fivethirtyeight')\n",
    "import seaborn as sns\n",
    "import re\n",
    "import datetime"
   ]
  },
  {
   "cell_type": "code",
   "execution_count": 2,
   "metadata": {
    "scrolled": false
   },
   "outputs": [
    {
     "data": {
      "text/html": [
       "<div>\n",
       "<style scoped>\n",
       "    .dataframe tbody tr th:only-of-type {\n",
       "        vertical-align: middle;\n",
       "    }\n",
       "\n",
       "    .dataframe tbody tr th {\n",
       "        vertical-align: top;\n",
       "    }\n",
       "\n",
       "    .dataframe thead th {\n",
       "        text-align: right;\n",
       "    }\n",
       "</style>\n",
       "<table border=\"1\" class=\"dataframe\">\n",
       "  <thead>\n",
       "    <tr style=\"text-align: right;\">\n",
       "      <th></th>\n",
       "      <th>color</th>\n",
       "      <th>director_name</th>\n",
       "      <th>duration</th>\n",
       "      <th>gross</th>\n",
       "      <th>genres</th>\n",
       "      <th>movie_title</th>\n",
       "      <th>title_year</th>\n",
       "      <th>language</th>\n",
       "      <th>country</th>\n",
       "      <th>budget</th>\n",
       "      <th>imdb_score</th>\n",
       "      <th>actors</th>\n",
       "      <th>movie_facebook_likes</th>\n",
       "    </tr>\n",
       "  </thead>\n",
       "  <tbody>\n",
       "    <tr>\n",
       "      <td>0</td>\n",
       "      <td>Color</td>\n",
       "      <td>Martin Scorsese</td>\n",
       "      <td>240</td>\n",
       "      <td>116866727.0</td>\n",
       "      <td>Biography|Comedy|Crime|Drama</td>\n",
       "      <td>The Wolf of Wall Street</td>\n",
       "      <td>2013</td>\n",
       "      <td>English</td>\n",
       "      <td>USA</td>\n",
       "      <td>100000000.0</td>\n",
       "      <td>8.2</td>\n",
       "      <td>Leonardo DiCaprio,Matthew McConaughey,Jon Favreau</td>\n",
       "      <td>138000</td>\n",
       "    </tr>\n",
       "    <tr>\n",
       "      <td>1</td>\n",
       "      <td>Color</td>\n",
       "      <td>Shane Black</td>\n",
       "      <td>195</td>\n",
       "      <td>408992272.0</td>\n",
       "      <td>Action|Adventure|Sci-Fi</td>\n",
       "      <td>Iron Man 3</td>\n",
       "      <td>2013</td>\n",
       "      <td>English</td>\n",
       "      <td>USA</td>\n",
       "      <td>200000000.0</td>\n",
       "      <td>7.2</td>\n",
       "      <td>Robert Downey Jr.,Jon Favreau,Don Cheadle</td>\n",
       "      <td>95000</td>\n",
       "    </tr>\n",
       "    <tr>\n",
       "      <td>2</td>\n",
       "      <td>color</td>\n",
       "      <td>Quentin Tarantino</td>\n",
       "      <td>187</td>\n",
       "      <td>54116191.0</td>\n",
       "      <td>Crime|Drama|Mystery|Thriller|Western</td>\n",
       "      <td>The Hateful Eight</td>\n",
       "      <td>2015</td>\n",
       "      <td>English</td>\n",
       "      <td>USA</td>\n",
       "      <td>44000000.0</td>\n",
       "      <td>7.9</td>\n",
       "      <td>Craig Stark,Jennifer Jason Leigh,Zoë Bell</td>\n",
       "      <td>114000</td>\n",
       "    </tr>\n",
       "    <tr>\n",
       "      <td>3</td>\n",
       "      <td>Color</td>\n",
       "      <td>Kenneth Lonergan</td>\n",
       "      <td>186</td>\n",
       "      <td>46495.0</td>\n",
       "      <td>Drama</td>\n",
       "      <td>Margaret</td>\n",
       "      <td>2011</td>\n",
       "      <td>English</td>\n",
       "      <td>usa</td>\n",
       "      <td>14000000.0</td>\n",
       "      <td>6.5</td>\n",
       "      <td>Matt Damon,Kieran Culkin,John Gallagher Jr.</td>\n",
       "      <td>0</td>\n",
       "    </tr>\n",
       "    <tr>\n",
       "      <td>4</td>\n",
       "      <td>Color</td>\n",
       "      <td>Peter Jackson</td>\n",
       "      <td>186</td>\n",
       "      <td>258355354.0</td>\n",
       "      <td>Adventure|Fantasy</td>\n",
       "      <td>The Hobbit: The Desolation of Smaug</td>\n",
       "      <td>2013</td>\n",
       "      <td>English</td>\n",
       "      <td>USA</td>\n",
       "      <td>225000000.0</td>\n",
       "      <td>7.9</td>\n",
       "      <td>Aidan Turner,Adam Brown,James Nesbitt</td>\n",
       "      <td>83000</td>\n",
       "    </tr>\n",
       "  </tbody>\n",
       "</table>\n",
       "</div>"
      ],
      "text/plain": [
       "    color      director_name  duration        gross  \\\n",
       "0   Color    Martin Scorsese       240  116866727.0   \n",
       "1   Color        Shane Black       195  408992272.0   \n",
       "2  color   Quentin Tarantino       187   54116191.0   \n",
       "3   Color   Kenneth Lonergan       186      46495.0   \n",
       "4   Color      Peter Jackson       186  258355354.0   \n",
       "\n",
       "                                 genres                          movie_title  \\\n",
       "0          Biography|Comedy|Crime|Drama              The Wolf of Wall Street   \n",
       "1               Action|Adventure|Sci-Fi                           Iron Man 3   \n",
       "2  Crime|Drama|Mystery|Thriller|Western                    The Hateful Eight   \n",
       "3                                 Drama                             Margaret   \n",
       "4                     Adventure|Fantasy  The Hobbit: The Desolation of Smaug   \n",
       "\n",
       "   title_year language country       budget  imdb_score  \\\n",
       "0        2013  English     USA  100000000.0         8.2   \n",
       "1        2013  English     USA  200000000.0         7.2   \n",
       "2        2015  English     USA   44000000.0         7.9   \n",
       "3        2011  English     usa   14000000.0         6.5   \n",
       "4        2013  English     USA  225000000.0         7.9   \n",
       "\n",
       "                                              actors  movie_facebook_likes  \n",
       "0  Leonardo DiCaprio,Matthew McConaughey,Jon Favreau                138000  \n",
       "1          Robert Downey Jr.,Jon Favreau,Don Cheadle                 95000  \n",
       "2          Craig Stark,Jennifer Jason Leigh,Zoë Bell                114000  \n",
       "3        Matt Damon,Kieran Culkin,John Gallagher Jr.                     0  \n",
       "4              Aidan Turner,Adam Brown,James Nesbitt                 83000  "
      ]
     },
     "execution_count": 2,
     "metadata": {},
     "output_type": "execute_result"
    }
   ],
   "source": [
    "df = pd.read_csv('movie_sample_dataset.csv', encoding='utf-8')\n",
    "df.head()"
   ]
  },
  {
   "cell_type": "code",
   "execution_count": 3,
   "metadata": {},
   "outputs": [
    {
     "data": {
      "text/plain": [
       "(99, 13)"
      ]
     },
     "execution_count": 3,
     "metadata": {},
     "output_type": "execute_result"
    }
   ],
   "source": [
    "df.shape"
   ]
  },
  {
   "cell_type": "code",
   "execution_count": 4,
   "metadata": {},
   "outputs": [],
   "source": [
    "df.drop(['color','language'], axis=1, inplace=True)"
   ]
  },
  {
   "cell_type": "code",
   "execution_count": 5,
   "metadata": {},
   "outputs": [
    {
     "data": {
      "text/html": [
       "<div>\n",
       "<style scoped>\n",
       "    .dataframe tbody tr th:only-of-type {\n",
       "        vertical-align: middle;\n",
       "    }\n",
       "\n",
       "    .dataframe tbody tr th {\n",
       "        vertical-align: top;\n",
       "    }\n",
       "\n",
       "    .dataframe thead th {\n",
       "        text-align: right;\n",
       "    }\n",
       "</style>\n",
       "<table border=\"1\" class=\"dataframe\">\n",
       "  <thead>\n",
       "    <tr style=\"text-align: right;\">\n",
       "      <th></th>\n",
       "      <th>director_name</th>\n",
       "      <th>duration</th>\n",
       "      <th>gross</th>\n",
       "      <th>genres</th>\n",
       "      <th>movie_title</th>\n",
       "      <th>title_year</th>\n",
       "      <th>country</th>\n",
       "      <th>budget</th>\n",
       "      <th>imdb_score</th>\n",
       "      <th>actors</th>\n",
       "      <th>movie_facebook_likes</th>\n",
       "    </tr>\n",
       "  </thead>\n",
       "  <tbody>\n",
       "    <tr>\n",
       "      <td>0</td>\n",
       "      <td>Martin Scorsese</td>\n",
       "      <td>240</td>\n",
       "      <td>116866727.0</td>\n",
       "      <td>Biography|Comedy|Crime|Drama</td>\n",
       "      <td>The Wolf of Wall Street</td>\n",
       "      <td>2013</td>\n",
       "      <td>USA</td>\n",
       "      <td>100000000.0</td>\n",
       "      <td>8.2</td>\n",
       "      <td>Leonardo DiCaprio,Matthew McConaughey,Jon Favreau</td>\n",
       "      <td>138000</td>\n",
       "    </tr>\n",
       "    <tr>\n",
       "      <td>1</td>\n",
       "      <td>Shane Black</td>\n",
       "      <td>195</td>\n",
       "      <td>408992272.0</td>\n",
       "      <td>Action|Adventure|Sci-Fi</td>\n",
       "      <td>Iron Man 3</td>\n",
       "      <td>2013</td>\n",
       "      <td>USA</td>\n",
       "      <td>200000000.0</td>\n",
       "      <td>7.2</td>\n",
       "      <td>Robert Downey Jr.,Jon Favreau,Don Cheadle</td>\n",
       "      <td>95000</td>\n",
       "    </tr>\n",
       "    <tr>\n",
       "      <td>2</td>\n",
       "      <td>Quentin Tarantino</td>\n",
       "      <td>187</td>\n",
       "      <td>54116191.0</td>\n",
       "      <td>Crime|Drama|Mystery|Thriller|Western</td>\n",
       "      <td>The Hateful Eight</td>\n",
       "      <td>2015</td>\n",
       "      <td>USA</td>\n",
       "      <td>44000000.0</td>\n",
       "      <td>7.9</td>\n",
       "      <td>Craig Stark,Jennifer Jason Leigh,Zoë Bell</td>\n",
       "      <td>114000</td>\n",
       "    </tr>\n",
       "    <tr>\n",
       "      <td>3</td>\n",
       "      <td>Kenneth Lonergan</td>\n",
       "      <td>186</td>\n",
       "      <td>46495.0</td>\n",
       "      <td>Drama</td>\n",
       "      <td>Margaret</td>\n",
       "      <td>2011</td>\n",
       "      <td>usa</td>\n",
       "      <td>14000000.0</td>\n",
       "      <td>6.5</td>\n",
       "      <td>Matt Damon,Kieran Culkin,John Gallagher Jr.</td>\n",
       "      <td>0</td>\n",
       "    </tr>\n",
       "    <tr>\n",
       "      <td>4</td>\n",
       "      <td>Peter Jackson</td>\n",
       "      <td>186</td>\n",
       "      <td>258355354.0</td>\n",
       "      <td>Adventure|Fantasy</td>\n",
       "      <td>The Hobbit: The Desolation of Smaug</td>\n",
       "      <td>2013</td>\n",
       "      <td>USA</td>\n",
       "      <td>225000000.0</td>\n",
       "      <td>7.9</td>\n",
       "      <td>Aidan Turner,Adam Brown,James Nesbitt</td>\n",
       "      <td>83000</td>\n",
       "    </tr>\n",
       "  </tbody>\n",
       "</table>\n",
       "</div>"
      ],
      "text/plain": [
       "       director_name  duration        gross  \\\n",
       "0    Martin Scorsese       240  116866727.0   \n",
       "1        Shane Black       195  408992272.0   \n",
       "2  Quentin Tarantino       187   54116191.0   \n",
       "3   Kenneth Lonergan       186      46495.0   \n",
       "4      Peter Jackson       186  258355354.0   \n",
       "\n",
       "                                 genres                          movie_title  \\\n",
       "0          Biography|Comedy|Crime|Drama              The Wolf of Wall Street   \n",
       "1               Action|Adventure|Sci-Fi                           Iron Man 3   \n",
       "2  Crime|Drama|Mystery|Thriller|Western                    The Hateful Eight   \n",
       "3                                 Drama                             Margaret   \n",
       "4                     Adventure|Fantasy  The Hobbit: The Desolation of Smaug   \n",
       "\n",
       "   title_year country       budget  imdb_score  \\\n",
       "0        2013     USA  100000000.0         8.2   \n",
       "1        2013     USA  200000000.0         7.2   \n",
       "2        2015     USA   44000000.0         7.9   \n",
       "3        2011     usa   14000000.0         6.5   \n",
       "4        2013     USA  225000000.0         7.9   \n",
       "\n",
       "                                              actors  movie_facebook_likes  \n",
       "0  Leonardo DiCaprio,Matthew McConaughey,Jon Favreau                138000  \n",
       "1          Robert Downey Jr.,Jon Favreau,Don Cheadle                 95000  \n",
       "2          Craig Stark,Jennifer Jason Leigh,Zoë Bell                114000  \n",
       "3        Matt Damon,Kieran Culkin,John Gallagher Jr.                     0  \n",
       "4              Aidan Turner,Adam Brown,James Nesbitt                 83000  "
      ]
     },
     "execution_count": 5,
     "metadata": {},
     "output_type": "execute_result"
    }
   ],
   "source": [
    "df.head()"
   ]
  },
  {
   "cell_type": "code",
   "execution_count": 6,
   "metadata": {},
   "outputs": [
    {
     "name": "stdout",
     "output_type": "stream",
     "text": [
      "<class 'pandas.core.frame.DataFrame'>\n",
      "RangeIndex: 99 entries, 0 to 98\n",
      "Data columns (total 11 columns):\n",
      "director_name           88 non-null object\n",
      "duration                99 non-null int64\n",
      "gross                   91 non-null float64\n",
      "genres                  98 non-null object\n",
      "movie_title             99 non-null object\n",
      "title_year              99 non-null int64\n",
      "country                 99 non-null object\n",
      "budget                  95 non-null float64\n",
      "imdb_score              99 non-null float64\n",
      "actors                  99 non-null object\n",
      "movie_facebook_likes    99 non-null int64\n",
      "dtypes: float64(3), int64(3), object(5)\n",
      "memory usage: 8.6+ KB\n"
     ]
    }
   ],
   "source": [
    "df.info()"
   ]
  },
  {
   "cell_type": "code",
   "execution_count": 7,
   "metadata": {},
   "outputs": [
    {
     "data": {
      "text/plain": [
       "Index(['director_name', 'duration', 'gross', 'genres', 'movie_title',\n",
       "       'title_year', 'country', 'budget', 'imdb_score', 'actors',\n",
       "       'movie_facebook_likes'],\n",
       "      dtype='object')"
      ]
     },
     "execution_count": 7,
     "metadata": {},
     "output_type": "execute_result"
    }
   ],
   "source": [
    "df.columns"
   ]
  },
  {
   "cell_type": "code",
   "execution_count": 8,
   "metadata": {},
   "outputs": [
    {
     "data": {
      "text/plain": [
       "director_name           11\n",
       "duration                 0\n",
       "gross                    8\n",
       "genres                   1\n",
       "movie_title              0\n",
       "title_year               0\n",
       "country                  0\n",
       "budget                   4\n",
       "imdb_score               0\n",
       "actors                   0\n",
       "movie_facebook_likes     0\n",
       "dtype: int64"
      ]
     },
     "execution_count": 8,
     "metadata": {},
     "output_type": "execute_result"
    }
   ],
   "source": [
    "df.isnull().sum()"
   ]
  },
  {
   "cell_type": "code",
   "execution_count": 9,
   "metadata": {},
   "outputs": [
    {
     "data": {
      "text/plain": [
       "0          Martin Scorsese\n",
       "1              Shane Black\n",
       "2        Quentin Tarantino\n",
       "3         Kenneth Lonergan\n",
       "4            Peter Jackson\n",
       "5                      NaN\n",
       "6            Peter Jackson\n",
       "7              Edward Hall\n",
       "8              Joss Whedon\n",
       "9              Joss Whedon\n",
       "10              Tom Tykwer\n",
       "11                    Null\n",
       "12     Christopher Spencer\n",
       "13       Christopher Nolan\n",
       "14            F. Gary Gray\n",
       "15       Richard Linklater\n",
       "16       Quentin Tarantino\n",
       "17             Michael Bay\n",
       "18       Christopher Nolan\n",
       "19           Peter Jackson\n",
       "20              Tom Hooper\n",
       "21              Tom Hooper\n",
       "22         Kathryn Bigelow\n",
       "23            Ridley Scott\n",
       "24                     NaN\n",
       "25             Michael Bay\n",
       "26        Denis Villeneuve\n",
       "27       Gnana Rajasekaran\n",
       "28               Marc Webb\n",
       "29                     Nan\n",
       "30            Ridley Scott\n",
       "31            Ridley Scott\n",
       "32                     NaN\n",
       "33              Mike Leigh\n",
       "34          Gore Verbinski\n",
       "35           David Fincher\n",
       "36            Bryan Singer\n",
       "37               Jay Oliva\n",
       "38       Christopher Nolan\n",
       "39    Paul Thomas Anderson\n",
       "40              Sam Mendes\n",
       "41                     NaN\n",
       "42    Michael Patrick King\n",
       "43             Tate Taylor\n",
       "44        Francis Lawrence\n",
       "45        Steven Spielberg\n",
       "46             Michael Bay\n",
       "47         Guillaume Canet\n",
       "48    Paul Thomas Anderson\n",
       "49            Bryan Singer\n",
       "50              Adam McKay\n",
       "51             Zack Snyder\n",
       "52              Sam Mendes\n",
       "53              Sam Mendes\n",
       "54            Baz Luhrmann\n",
       "55            Baz Luhrmann\n",
       "56                     NaN\n",
       "57        Steven Spielberg\n",
       "58               Marc Webb\n",
       "59                     NaN\n",
       "60             Joss Whedon\n",
       "61       Timur Bekmambetov\n",
       "62       Timur Bekmambetov\n",
       "63       Timur Bekmambetov\n",
       "64         Justin Chadwick\n",
       "65            Oliver Stone\n",
       "66            David Dobkin\n",
       "67             Ryan Murphy\n",
       "68               James Wan\n",
       "69        Derek Cianfrance\n",
       "70          Gavin O'Connor\n",
       "71                     NaN\n",
       "72               Gary Ross\n",
       "73             Tate Taylor\n",
       "74         Terrence Malick\n",
       "75                     NaN\n",
       "76         Robert Zemeckis\n",
       "77        Darren Aronofsky\n",
       "78         Martin Scorsese\n",
       "79            Ridley Scott\n",
       "80           James Mangold\n",
       "81         Daniel Espinosa\n",
       "82                     NaN\n",
       "83           Walter Salles\n",
       "84                     NaN\n",
       "85     Angelina Jolie Pitt\n",
       "86     Angelina Jolie Pitt\n",
       "87         Seth MacFarlane\n",
       "88           Anthony Russo\n",
       "89            Rob Marshall\n",
       "90           Adam Shankman\n",
       "91                     NaN\n",
       "92        Sadyk Sher-Niyaz\n",
       "93             Tony Gilroy\n",
       "94           Steve McQueen\n",
       "95        Richard J. Lewis\n",
       "96         Paul Greengrass\n",
       "97              David Ayer\n",
       "98          Clint Eastwood\n",
       "Name: director_name, dtype: object"
      ]
     },
     "execution_count": 9,
     "metadata": {},
     "output_type": "execute_result"
    }
   ],
   "source": [
    "pd.set_option('display.max_rows', None)\n",
    "df['director_name']"
   ]
  },
  {
   "cell_type": "code",
   "execution_count": 10,
   "metadata": {},
   "outputs": [],
   "source": [
    "df['director_name'] = np.where(df['director_name']=='N/A','', df['director_name'])\n",
    "df['director_name'] = np.where(df['director_name']=='Nan','', df['director_name'])\n",
    "df['director_name'] = np.where(df['director_name']=='Null','', df['director_name'])"
   ]
  },
  {
   "cell_type": "code",
   "execution_count": 11,
   "metadata": {},
   "outputs": [
    {
     "data": {
      "text/plain": [
       "array([240, 195, 187, 186, 183, -50, 180, 173, 172, 158, 170, 169, 167,\n",
       "       165, 580, 164, 157, 156, 154, 153, 151, 150, 650, 149, 148, 147,\n",
       "       146, 144, 143, 142, 141, 140, 139, 138, 137, 136, 135, 134,   5],\n",
       "      dtype=int64)"
      ]
     },
     "execution_count": 11,
     "metadata": {},
     "output_type": "execute_result"
    }
   ],
   "source": [
    "df['duration'].unique()"
   ]
  },
  {
   "cell_type": "code",
   "execution_count": 12,
   "metadata": {},
   "outputs": [
    {
     "data": {
      "text/plain": [
       "{'whiskers': [<matplotlib.lines.Line2D at 0x2ab5a972908>,\n",
       "  <matplotlib.lines.Line2D at 0x2ab5a972288>],\n",
       " 'caps': [<matplotlib.lines.Line2D at 0x2ab5a977d08>,\n",
       "  <matplotlib.lines.Line2D at 0x2ab5a977e88>],\n",
       " 'boxes': [<matplotlib.lines.Line2D at 0x2ab5a966fc8>],\n",
       " 'medians': [<matplotlib.lines.Line2D at 0x2ab5a977f88>],\n",
       " 'fliers': [<matplotlib.lines.Line2D at 0x2ab5a9840c8>],\n",
       " 'means': []}"
      ]
     },
     "execution_count": 12,
     "metadata": {},
     "output_type": "execute_result"
    },
    {
     "data": {
      "image/png": "[encoded data removed]",
      "text/plain": [
       "<Figure size 432x288 with 1 Axes>"
      ]
     },
     "metadata": {
      "needs_background": "light"
     },
     "output_type": "display_data"
    }
   ],
   "source": [
    "plt.boxplot(df[\"duration\"])"
   ]
  },
  {
   "cell_type": "code",
   "execution_count": 13,
   "metadata": {},
   "outputs": [
    {
     "data": {
      "text/plain": [
       "array([1.16866727e+08, 4.08992272e+08, 5.41161910e+07, 4.64950000e+04,\n",
       "       2.58355354e+08, 3.30249062e+08, 3.03001229e+08,            nan,\n",
       "       6.23279547e+08, 2.70985800e+07, 1.02515793e+08, 5.96961760e+07,\n",
       "       1.87991439e+08, 1.61029270e+08, 2.53592000e+07, 1.62804648e+08,\n",
       "       2.45428137e+08, 4.48130642e+08, 2.55108370e+08, 1.48775460e+08,\n",
       "       9.57207160e+07, 1.05219735e+08, 1.83635922e+08, 3.52358779e+08,\n",
       "       6.09628780e+07, 2.62030663e+08, 2.28430993e+08, 6.50070450e+07,\n",
       "       1.82204440e+08, 3.95850000e+06, 8.92899100e+07, 1.67735396e+08,\n",
       "       2.33914986e+08, 2.92568851e+08, 8.09331800e+06, 2.00074175e+08,\n",
       "       4.07197282e+08, 9.53289370e+07, 1.69705587e+08, 4.24645577e+08,\n",
       "       7.98833590e+07, 5.28224180e+07, 4.12290000e+04, 1.63772740e+07,\n",
       "       1.54985087e+08, 2.17531200e+06, 2.91021565e+08, 3.04360277e+08,\n",
       "       1.44812796e+08, 7.23060650e+07, 2.02853933e+08, 4.07999255e+08,\n",
       "       4.58991599e+08, 8.32474800e+06, 4.73075500e+07, 4.71050850e+07,\n",
       "       8.05740100e+07, 3.50034110e+08, 2.13832980e+07, 1.36516620e+07,\n",
       "       1.50832203e+08, 2.03899670e+07, 3.05139400e+07, 1.33033190e+07,\n",
       "       1.50117807e+08, 9.37492030e+07, 1.01160529e+08, 1.27968405e+08,\n",
       "       1.69693900e+07, 1.32550960e+08, 1.20613500e+06, 3.73049500e+07,\n",
       "       7.17753000e+05, 2.81666058e+08, 1.15603980e+08, 4.26156850e+07,\n",
       "       2.59746958e+08, 2.41063875e+08, 3.85093420e+07, 5.24746160e+07,\n",
       "       1.13165635e+08, 5.66678700e+07, 7.50140400e+06, 1.07100855e+08,\n",
       "       8.57071160e+07, 4.70342720e+07])"
      ]
     },
     "execution_count": 13,
     "metadata": {},
     "output_type": "execute_result"
    }
   ],
   "source": [
    "df['gross'].unique()"
   ]
  },
  {
   "cell_type": "code",
   "execution_count": 14,
   "metadata": {},
   "outputs": [
    {
     "data": {
      "text/plain": [
       "0     116866727.0\n",
       "1     408992272.0\n",
       "2      54116191.0\n",
       "3         46495.0\n",
       "4     258355354.0\n",
       "5     330249062.0\n",
       "6     303001229.0\n",
       "7             NaN\n",
       "8     623279547.0\n",
       "9     623279547.0\n",
       "10     27098580.0\n",
       "11    102515793.0\n",
       "12     59696176.0\n",
       "13    187991439.0\n",
       "14    161029270.0\n",
       "15     25359200.0\n",
       "16    162804648.0\n",
       "17    245428137.0\n",
       "18    448130642.0\n",
       "19    255108370.0\n",
       "20    148775460.0\n",
       "21    148775460.0\n",
       "22     95720716.0\n",
       "23    105219735.0\n",
       "24    183635922.0\n",
       "25    352358779.0\n",
       "26     60962878.0\n",
       "27            NaN\n",
       "28    262030663.0\n",
       "29    228430993.0\n",
       "30     65007045.0\n",
       "31     65007045.0\n",
       "32    182204440.0\n",
       "33      3958500.0\n",
       "34     89289910.0\n",
       "35    167735396.0\n",
       "36    233914986.0\n",
       "37            NaN\n",
       "38    292568851.0\n",
       "39      8093318.0\n",
       "40    200074175.0\n",
       "41    407197282.0\n",
       "42     95328937.0\n",
       "43    169705587.0\n",
       "44    424645577.0\n",
       "45     79883359.0\n",
       "46     52822418.0\n",
       "47        41229.0\n",
       "48     16377274.0\n",
       "49    154985087.0\n",
       "50      2175312.0\n",
       "51    291021565.0\n",
       "52    304360277.0\n",
       "53    304360277.0\n",
       "54    144812796.0\n",
       "55    144812796.0\n",
       "56            NaN\n",
       "57     72306065.0\n",
       "58    202853933.0\n",
       "59    407999255.0\n",
       "60    458991599.0\n",
       "61            NaN\n",
       "62            NaN\n",
       "63            NaN\n",
       "64      8324748.0\n",
       "65     47307550.0\n",
       "66     47105085.0\n",
       "67     80574010.0\n",
       "68    350034110.0\n",
       "69     21383298.0\n",
       "70     13651662.0\n",
       "71    150832203.0\n",
       "72     20389967.0\n",
       "73     30513940.0\n",
       "74     13303319.0\n",
       "75    150117807.0\n",
       "76     93749203.0\n",
       "77    101160529.0\n",
       "78    127968405.0\n",
       "79     16969390.0\n",
       "80    132550960.0\n",
       "81      1206135.0\n",
       "82     37304950.0\n",
       "83       717753.0\n",
       "84    281666058.0\n",
       "85    115603980.0\n",
       "86    115603980.0\n",
       "87     42615685.0\n",
       "88    259746958.0\n",
       "89    241063875.0\n",
       "90     38509342.0\n",
       "91     52474616.0\n",
       "92            NaN\n",
       "93    113165635.0\n",
       "94     56667870.0\n",
       "95      7501404.0\n",
       "96    107100855.0\n",
       "97     85707116.0\n",
       "98     47034272.0\n",
       "Name: gross, dtype: float64"
      ]
     },
     "execution_count": 14,
     "metadata": {},
     "output_type": "execute_result"
    }
   ],
   "source": [
    "pd.set_option('display.max_rows', None)\n",
    "df['gross']"
   ]
  },
  {
   "cell_type": "code",
   "execution_count": 15,
   "metadata": {},
   "outputs": [
    {
     "data": {
      "text/plain": [
       "array(['Biography|Comedy|Crime|Drama', 'Action|Adventure|Sci-Fi',\n",
       "       'Crime|Drama|Mystery|Thriller|Western', 'Drama',\n",
       "       'Adventure|Fantasy', 'Drama|Romance', 'Drama|Sci-Fi',\n",
       "       'Crime|Drama|Mystery|Thriller', nan, 'Adventure|Drama|Sci-Fi',\n",
       "       'Biography|Crime|Drama|History|Music', 'Drama|Western',\n",
       "       'Action|Thriller', 'Drama|Musical|Romance',\n",
       "       'Drama|History|Thriller', 'Action|Adventure|Drama|History',\n",
       "       'Adventure|Drama|Thriller|Western', 'Biography|Drama|History',\n",
       "       'Action|Adventure|Fantasy', 'Action|Adventure|Drama',\n",
       "       'Biography|Drama|History|War', 'Action|Adventure|Western',\n",
       "       'Action|Adventure|Fantasy|Sci-Fi|Thriller',\n",
       "       'Action|Animation|Crime|Sci-Fi|Thriller',\n",
       "       'Action|Adventure|Sci-Fi|Thriller',\n",
       "       'Comedy|Crime|Drama|Mystery|Romance', 'Action|Adventure|Thriller',\n",
       "       'Comedy|Drama|Romance', 'Adventure|Sci-Fi|Thriller', 'Drama|War',\n",
       "       'Action|Drama|Thriller|War', 'Crime|Drama|Thriller', 'Comedy',\n",
       "       'Action|Adventure|Fantasy|Sci-Fi', 'Drama|Horror|Thriller',\n",
       "       'Adventure|Drama|Sci-Fi|Thriller', 'Adventure|Drama|History',\n",
       "       'Crime|Drama', 'Action|Crime|Thriller', 'Drama|Sport',\n",
       "       'Adventure|Mystery|Sci-Fi', 'Action|Biography|Drama|History|War',\n",
       "       'Biography|Drama|Music', 'Drama|Fantasy', 'Drama|Thriller',\n",
       "       'Mystery|Thriller', 'Biography|Crime|Drama', 'Adventure|Drama',\n",
       "       'Adventure|Sci-Fi', 'Biography|Drama|Sport|War', 'Comedy|Western',\n",
       "       'Comedy|Drama|Musical|Romance', 'Action|Biography|Drama|History',\n",
       "       'Comedy|Drama', 'Biography|Drama|Thriller', 'Action|Drama|War',\n",
       "       'Biography|Drama|Music|Musical'], dtype=object)"
      ]
     },
     "execution_count": 15,
     "metadata": {},
     "output_type": "execute_result"
    }
   ],
   "source": [
    "df['genres'].unique()"
   ]
  },
  {
   "cell_type": "code",
   "execution_count": 16,
   "metadata": {},
   "outputs": [
    {
     "data": {
      "text/plain": [
       "0                 Biography|Comedy|Crime|Drama\n",
       "1                      Action|Adventure|Sci-Fi\n",
       "2         Crime|Drama|Mystery|Thriller|Western\n",
       "3                                        Drama\n",
       "4                            Adventure|Fantasy\n",
       "5                      Action|Adventure|Sci-Fi\n",
       "6                            Adventure|Fantasy\n",
       "7                                Drama|Romance\n",
       "8                      Action|Adventure|Sci-Fi\n",
       "9                      Action|Adventure|Sci-Fi\n",
       "10                                Drama|Sci-Fi\n",
       "11                Crime|Drama|Mystery|Thriller\n",
       "12                                         NaN\n",
       "13                      Adventure|Drama|Sci-Fi\n",
       "14         Biography|Crime|Drama|History|Music\n",
       "15                                       Drama\n",
       "16                               Drama|Western\n",
       "17                     Action|Adventure|Sci-Fi\n",
       "18                             Action|Thriller\n",
       "19                           Adventure|Fantasy\n",
       "20                       Drama|Musical|Romance\n",
       "21                       Drama|Musical|Romance\n",
       "22                      Drama|History|Thriller\n",
       "23              Action|Adventure|Drama|History\n",
       "24            Adventure|Drama|Thriller|Western\n",
       "25                     Action|Adventure|Sci-Fi\n",
       "26                Crime|Drama|Mystery|Thriller\n",
       "27                     Biography|Drama|History\n",
       "28                    Action|Adventure|Fantasy\n",
       "29                      Adventure|Drama|Sci-Fi\n",
       "30                      Action|Adventure|Drama\n",
       "31                      Action|Adventure|Drama\n",
       "32                 Biography|Drama|History|War\n",
       "33                     Biography|Drama|History\n",
       "34                    Action|Adventure|Western\n",
       "35                Crime|Drama|Mystery|Thriller\n",
       "36    Action|Adventure|Fantasy|Sci-Fi|Thriller\n",
       "37      Action|Animation|Crime|Sci-Fi|Thriller\n",
       "38            Action|Adventure|Sci-Fi|Thriller\n",
       "39          Comedy|Crime|Drama|Mystery|Romance\n",
       "40                   Action|Adventure|Thriller\n",
       "41                     Action|Adventure|Sci-Fi\n",
       "42                        Comedy|Drama|Romance\n",
       "43                                       Drama\n",
       "44                   Adventure|Sci-Fi|Thriller\n",
       "45                                   Drama|War\n",
       "46                   Action|Drama|Thriller|War\n",
       "47                        Crime|Drama|Thriller\n",
       "48                                       Drama\n",
       "49                     Action|Adventure|Sci-Fi\n",
       "50                                      Comedy\n",
       "51             Action|Adventure|Fantasy|Sci-Fi\n",
       "52                   Action|Adventure|Thriller\n",
       "53                   Action|Adventure|Thriller\n",
       "54                               Drama|Romance\n",
       "55                               Drama|Romance\n",
       "56                       Drama|Horror|Thriller\n",
       "57                      Drama|History|Thriller\n",
       "58             Action|Adventure|Fantasy|Sci-Fi\n",
       "59             Adventure|Drama|Sci-Fi|Thriller\n",
       "60                     Action|Adventure|Sci-Fi\n",
       "61                     Adventure|Drama|History\n",
       "62                     Adventure|Drama|History\n",
       "63                     Adventure|Drama|History\n",
       "64                     Biography|Drama|History\n",
       "65                        Crime|Drama|Thriller\n",
       "66                                 Crime|Drama\n",
       "67                               Drama|Romance\n",
       "68                       Action|Crime|Thriller\n",
       "69                        Crime|Drama|Thriller\n",
       "70                                 Drama|Sport\n",
       "71                    Adventure|Mystery|Sci-Fi\n",
       "72          Action|Biography|Drama|History|War\n",
       "73                       Biography|Drama|Music\n",
       "74                               Drama|Fantasy\n",
       "75                                 Crime|Drama\n",
       "76                              Drama|Thriller\n",
       "77                      Action|Adventure|Drama\n",
       "78                            Mystery|Thriller\n",
       "79                        Crime|Drama|Thriller\n",
       "80            Action|Adventure|Sci-Fi|Thriller\n",
       "81                        Crime|Drama|Thriller\n",
       "82                       Biography|Crime|Drama\n",
       "83                             Adventure|Drama\n",
       "84                            Adventure|Sci-Fi\n",
       "85                   Biography|Drama|Sport|War\n",
       "86                   Biography|Drama|Sport|War\n",
       "87                              Comedy|Western\n",
       "88                     Action|Adventure|Sci-Fi\n",
       "89                    Action|Adventure|Fantasy\n",
       "90                Comedy|Drama|Musical|Romance\n",
       "91                                       Drama\n",
       "92              Action|Biography|Drama|History\n",
       "93                   Action|Adventure|Thriller\n",
       "94                     Biography|Drama|History\n",
       "95                                Comedy|Drama\n",
       "96                    Biography|Drama|Thriller\n",
       "97                            Action|Drama|War\n",
       "98               Biography|Drama|Music|Musical\n",
       "Name: genres, dtype: object"
      ]
     },
     "execution_count": 16,
     "metadata": {},
     "output_type": "execute_result"
    }
   ],
   "source": [
    "pd.set_option('display.max_rows', None)\n",
    "df['genres']"
   ]
  },
  {
   "cell_type": "code",
   "execution_count": 17,
   "metadata": {},
   "outputs": [],
   "source": [
    "df['genres'].fillna('General', inplace=True)"
   ]
  },
  {
   "cell_type": "code",
   "execution_count": 18,
   "metadata": {},
   "outputs": [
    {
     "data": {
      "text/plain": [
       "array([2013, 2015, 2011,  202, 2012, 2014, 2010, 2016,  205], dtype=int64)"
      ]
     },
     "execution_count": 18,
     "metadata": {},
     "output_type": "execute_result"
    }
   ],
   "source": [
    "df['title_year'].unique()"
   ]
  },
  {
   "cell_type": "code",
   "execution_count": 19,
   "metadata": {},
   "outputs": [
    {
     "data": {
      "text/plain": [
       "(90.0, 3000.0)"
      ]
     },
     "execution_count": 19,
     "metadata": {},
     "output_type": "execute_result"
    },
    {
     "data": {
      "image/png": "[encoded data removed]",
      "text/plain": [
       "<Figure size 432x288 with 1 Axes>"
      ]
     },
     "metadata": {
      "needs_background": "light"
     },
     "output_type": "display_data"
    }
   ],
   "source": [
    "plt.boxplot(df[\"title_year\"])\n",
    "plt.ylim([90,3000])"
   ]
  },
  {
   "cell_type": "code",
   "execution_count": 20,
   "metadata": {},
   "outputs": [
    {
     "name": "stderr",
     "output_type": "stream",
     "text": [
      "C:\\Users\\Asus\\Anaconda3\\lib\\site-packages\\pandas\\core\\ops\\__init__.py:1115: FutureWarning: elementwise comparison failed; returning scalar instead, but in the future will perform elementwise comparison\n",
      "  result = method(y)\n"
     ]
    }
   ],
   "source": [
    "df['title_year'] = np.where(df['title_year']==\"202\",\"2002\", df['title_year'])\n",
    "df['title_year'] = np.where(df['title_year']==\"205\",\"2005\", df['title_year'])"
   ]
  },
  {
   "cell_type": "code",
   "execution_count": 21,
   "metadata": {},
   "outputs": [
    {
     "data": {
      "text/plain": [
       "0     2013\n",
       "1     2013\n",
       "2     2015\n",
       "3     2011\n",
       "4     2013\n",
       "5      202\n",
       "6     2012\n",
       "7     2012\n",
       "8     2012\n",
       "9     2012\n",
       "10    2012\n",
       "11    2011\n",
       "12    2014\n",
       "13    2014\n",
       "14    2015\n",
       "15    2014\n",
       "16    2012\n",
       "17    2014\n",
       "18    2012\n",
       "19    2014\n",
       "20    2012\n",
       "21    2012\n",
       "22    2012\n",
       "23    2010\n",
       "24    2015\n",
       "25    2011\n",
       "26    2013\n",
       "27    2014\n",
       "28    2012\n",
       "29    2015\n",
       "30    2014\n",
       "31    2014\n",
       "32    2012\n",
       "33    2014\n",
       "34    2013\n",
       "35    2014\n",
       "36    2014\n",
       "37    2013\n",
       "38    2010\n",
       "39    2014\n",
       "40    2015\n",
       "41    2016\n",
       "42    2010\n",
       "43    2011\n",
       "44    2013\n",
       "45    2011\n",
       "46    2016\n",
       "47    2013\n",
       "48    2012\n",
       "49    2016\n",
       "50    2013\n",
       "51    2013\n",
       "52    2012\n",
       "53    2012\n",
       "54    2013\n",
       "55    2013\n",
       "56    2011\n",
       "57    2015\n",
       "58    2014\n",
       "59    2012\n",
       "60    2015\n",
       "61    2016\n",
       "62    2016\n",
       "63    2016\n",
       "64    2013\n",
       "65    2012\n",
       "66    2014\n",
       "67    2010\n",
       "68    2015\n",
       "69    2012\n",
       "70    2011\n",
       "71    2014\n",
       "72    2016\n",
       "73    2014\n",
       "74    2011\n",
       "75    2013\n",
       "76    2012\n",
       "77    2014\n",
       "78    2010\n",
       "79    2013\n",
       "80    2013\n",
       "81    2005\n",
       "82    2011\n",
       "83    2012\n",
       "84    2015\n",
       "85    2014\n",
       "86    2014\n",
       "87    2014\n",
       "88    2014\n",
       "89    2011\n",
       "90    2012\n",
       "91    2010\n",
       "92    2014\n",
       "93    2012\n",
       "94    2013\n",
       "95    2010\n",
       "96    2013\n",
       "97    2014\n",
       "98    2014\n",
       "Name: title_year, dtype: object"
      ]
     },
     "execution_count": 21,
     "metadata": {},
     "output_type": "execute_result"
    }
   ],
   "source": [
    "pd.set_option('display.max_rows', None)\n",
    "df['title_year']"
   ]
  },
  {
   "cell_type": "code",
   "execution_count": 22,
   "metadata": {},
   "outputs": [
    {
     "data": {
      "text/plain": [
       "array(['USA', 'usa', 'UK', 'Germany', 'New Zealand', 'India',\n",
       "       'United States', 'France', 'Australia', 'Czech Republic',\n",
       "       'Kyrgyzstan', 'Canada'], dtype=object)"
      ]
     },
     "execution_count": 22,
     "metadata": {},
     "output_type": "execute_result"
    }
   ],
   "source": [
    "df['country'].unique()"
   ]
  },
  {
   "cell_type": "code",
   "execution_count": 23,
   "metadata": {},
   "outputs": [],
   "source": [
    "df['country'] = df['country'].str.upper()\n",
    "df['country'] = np.where(df['country']=='UNITED STATES','USA', df['country'])"
   ]
  },
  {
   "cell_type": "code",
   "execution_count": 24,
   "metadata": {},
   "outputs": [
    {
     "data": {
      "text/plain": [
       "array(['USA', 'UK', 'GERMANY', 'NEW ZEALAND', 'INDIA', 'FRANCE',\n",
       "       'AUSTRALIA', 'CZECH REPUBLIC', 'KYRGYZSTAN', 'CANADA'],\n",
       "      dtype=object)"
      ]
     },
     "execution_count": 24,
     "metadata": {},
     "output_type": "execute_result"
    }
   ],
   "source": [
    "df['country'].unique()"
   ]
  },
  {
   "cell_type": "code",
   "execution_count": 25,
   "metadata": {
    "scrolled": true
   },
   "outputs": [
    {
     "data": {
      "text/plain": [
       "array([1.000e+08, 2.000e+08, 4.400e+07, 1.400e+07, 2.250e+08, 2.500e+08,\n",
       "       1.800e+08,       nan, 2.200e+08, 1.020e+08, 9.000e+07, 2.200e+07,\n",
       "       1.650e+08, 2.800e+07, 4.000e+06, 2.100e+08, 6.100e+07, 4.000e+07,\n",
       "       1.350e+08, 1.950e+08, 4.600e+07, 2.300e+08, 1.080e+08, 1.400e+08,\n",
       "       6.500e+07, 2.150e+08, 3.500e+06, 1.600e+08, 2.000e+07, 2.450e+08,\n",
       "       2.500e+07, 1.300e+08, 6.600e+07, 5.000e+07, 2.550e+07, 3.200e+07,\n",
       "       1.780e+08, 1.050e+08, 1.735e+04, 7.800e+07, 3.500e+07, 4.500e+07,\n",
       "       6.000e+07, 1.900e+08, 1.500e+07, 8.500e+07, 3.000e+07, 3.100e+07,\n",
       "       1.250e+08, 8.000e+07, 1.200e+08, 1.700e+08, 7.500e+07, 7.000e+07,\n",
       "       1.400e+06, 5.500e+07, 6.800e+07])"
      ]
     },
     "execution_count": 25,
     "metadata": {},
     "output_type": "execute_result"
    }
   ],
   "source": [
    "df['budget'].unique()"
   ]
  },
  {
   "cell_type": "code",
   "execution_count": 26,
   "metadata": {},
   "outputs": [
    {
     "data": {
      "text/plain": [
       "0     100000000.0\n",
       "1     200000000.0\n",
       "2      44000000.0\n",
       "3      14000000.0\n",
       "4     225000000.0\n",
       "5     250000000.0\n",
       "6     180000000.0\n",
       "7             NaN\n",
       "8     220000000.0\n",
       "9     220000000.0\n",
       "10    102000000.0\n",
       "11     90000000.0\n",
       "12     22000000.0\n",
       "13    165000000.0\n",
       "14     28000000.0\n",
       "15      4000000.0\n",
       "16    100000000.0\n",
       "17    210000000.0\n",
       "18    250000000.0\n",
       "19    250000000.0\n",
       "20     61000000.0\n",
       "21     61000000.0\n",
       "22     40000000.0\n",
       "23    200000000.0\n",
       "24    135000000.0\n",
       "25    195000000.0\n",
       "26     46000000.0\n",
       "27            NaN\n",
       "28    230000000.0\n",
       "29    108000000.0\n",
       "30    140000000.0\n",
       "31    140000000.0\n",
       "32     65000000.0\n",
       "33            NaN\n",
       "34    215000000.0\n",
       "35     61000000.0\n",
       "36    200000000.0\n",
       "37      3500000.0\n",
       "38    160000000.0\n",
       "39     20000000.0\n",
       "40    245000000.0\n",
       "41    250000000.0\n",
       "42    100000000.0\n",
       "43     25000000.0\n",
       "44    130000000.0\n",
       "45     66000000.0\n",
       "46     50000000.0\n",
       "47     25500000.0\n",
       "48     32000000.0\n",
       "49    178000000.0\n",
       "50     50000000.0\n",
       "51    225000000.0\n",
       "52    200000000.0\n",
       "53    200000000.0\n",
       "54    105000000.0\n",
       "55    105000000.0\n",
       "56        17350.0\n",
       "57     40000000.0\n",
       "58    200000000.0\n",
       "59     78000000.0\n",
       "60    250000000.0\n",
       "61    100000000.0\n",
       "62    100000000.0\n",
       "63    100000000.0\n",
       "64     35000000.0\n",
       "65     45000000.0\n",
       "66     50000000.0\n",
       "67     60000000.0\n",
       "68    190000000.0\n",
       "69     15000000.0\n",
       "70     25000000.0\n",
       "71     85000000.0\n",
       "72     50000000.0\n",
       "73     30000000.0\n",
       "74     32000000.0\n",
       "75     40000000.0\n",
       "76     31000000.0\n",
       "77    125000000.0\n",
       "78     80000000.0\n",
       "79     25000000.0\n",
       "80    120000000.0\n",
       "81     50000000.0\n",
       "82     35000000.0\n",
       "83     25000000.0\n",
       "84    160000000.0\n",
       "85     65000000.0\n",
       "86     65000000.0\n",
       "87     40000000.0\n",
       "88    170000000.0\n",
       "89    250000000.0\n",
       "90     75000000.0\n",
       "91     70000000.0\n",
       "92      1400000.0\n",
       "93    125000000.0\n",
       "94     20000000.0\n",
       "95            NaN\n",
       "96     55000000.0\n",
       "97     68000000.0\n",
       "98     40000000.0\n",
       "Name: budget, dtype: float64"
      ]
     },
     "execution_count": 26,
     "metadata": {},
     "output_type": "execute_result"
    }
   ],
   "source": [
    "pd.set_option('display.max_rows', None)\n",
    "df['budget']"
   ]
  },
  {
   "cell_type": "code",
   "execution_count": 27,
   "metadata": {},
   "outputs": [],
   "source": [
    "df['budget'].fillna(0, inplace=True)"
   ]
  },
  {
   "cell_type": "code",
   "execution_count": 28,
   "metadata": {},
   "outputs": [
    {
     "data": {
      "text/plain": [
       "array([ 8.2,  7.2,  7.9,  6.5,  6.9,  8.1, -7.5,  7.8,  5.6,  8.6,  8. ,\n",
       "        8.5,  5.7,  7.5,  7.6,  7.4,  6.7,  6.3,  7. ,  6.1,  6.8,  8.4,\n",
       "        8.8,  4.3,  7.1,  7.3,  3. ,  6. ,  5.8,  5.3,  6.4,  6.6, -1.2,\n",
       "        5.9,  8.7])"
      ]
     },
     "execution_count": 28,
     "metadata": {},
     "output_type": "execute_result"
    }
   ],
   "source": [
    "df['imdb_score'].unique()"
   ]
  },
  {
   "cell_type": "code",
   "execution_count": 29,
   "metadata": {},
   "outputs": [
    {
     "data": {
      "text/plain": [
       "(-10.0, 10.0)"
      ]
     },
     "execution_count": 29,
     "metadata": {},
     "output_type": "execute_result"
    },
    {
     "data": {
      "image/png": "[encoded data removed]",
      "text/plain": [
       "<Figure size 432x288 with 1 Axes>"
      ]
     },
     "metadata": {
      "needs_background": "light"
     },
     "output_type": "display_data"
    }
   ],
   "source": [
    "plt.boxplot(df[\"imdb_score\"])\n",
    "plt.ylim([-10,10])"
   ]
  },
  {
   "cell_type": "code",
   "execution_count": 30,
   "metadata": {},
   "outputs": [
    {
     "name": "stderr",
     "output_type": "stream",
     "text": [
      "C:\\Users\\Asus\\Anaconda3\\lib\\site-packages\\pandas\\core\\ops\\__init__.py:1115: FutureWarning: elementwise comparison failed; returning scalar instead, but in the future will perform elementwise comparison\n",
      "  result = method(y)\n"
     ]
    }
   ],
   "source": [
    "df['imdb_score'] = np.where(df['imdb_score']==\"-7.5\",\"7.5\", df['imdb_score'])\n",
    "df['imdb_score'] = np.where(df['imdb_score']==\"-1.2\",\"1.2\", df['imdb_score'])"
   ]
  },
  {
   "cell_type": "code",
   "execution_count": 31,
   "metadata": {},
   "outputs": [
    {
     "data": {
      "text/plain": [
       "array(['8.2', '7.2', '7.9', '6.5', '6.9', '8.1', '-7.5', '7.8', '5.6',\n",
       "       '8.6', '8.0', '8.5', '5.7', '7.5', '7.6', '7.4', '6.7', '6.3',\n",
       "       '7.0', '6.1', '6.8', '8.4', '8.8', '4.3', '7.1', '7.3', '3.0',\n",
       "       '6.0', '5.8', '5.3', '6.4', '6.6', '1.2', '5.9', '8.7'],\n",
       "      dtype=object)"
      ]
     },
     "execution_count": 31,
     "metadata": {},
     "output_type": "execute_result"
    }
   ],
   "source": [
    "df['imdb_score'].unique()"
   ]
  },
  {
   "cell_type": "code",
   "execution_count": 32,
   "metadata": {},
   "outputs": [
    {
     "name": "stdout",
     "output_type": "stream",
     "text": [
      "<class 'pandas.core.frame.DataFrame'>\n",
      "RangeIndex: 99 entries, 0 to 98\n",
      "Data columns (total 11 columns):\n",
      "director_name           88 non-null object\n",
      "duration                99 non-null int64\n",
      "gross                   91 non-null float64\n",
      "genres                  99 non-null object\n",
      "movie_title             99 non-null object\n",
      "title_year              99 non-null object\n",
      "country                 99 non-null object\n",
      "budget                  99 non-null float64\n",
      "imdb_score              99 non-null object\n",
      "actors                  99 non-null object\n",
      "movie_facebook_likes    99 non-null int64\n",
      "dtypes: float64(2), int64(2), object(7)\n",
      "memory usage: 8.6+ KB\n"
     ]
    }
   ],
   "source": [
    "df.info()"
   ]
  },
  {
   "cell_type": "code",
   "execution_count": 33,
   "metadata": {},
   "outputs": [
    {
     "data": {
      "text/plain": [
       "director_name           11\n",
       "duration                 0\n",
       "gross                    8\n",
       "genres                   0\n",
       "movie_title              0\n",
       "title_year               0\n",
       "country                  0\n",
       "budget                   0\n",
       "imdb_score               0\n",
       "actors                   0\n",
       "movie_facebook_likes     0\n",
       "dtype: int64"
      ]
     },
     "execution_count": 33,
     "metadata": {},
     "output_type": "execute_result"
    }
   ],
   "source": [
    "df.isnull().sum()"
   ]
  }
 ],
 "metadata": {
  "kernelspec": {
   "display_name": "Python 3",
   "language": "python",
   "name": "python3"
  },
  "language_info": {
   "codemirror_mode": {
    "name": "ipython",
    "version": 3
   },
   "file_extension": ".py",
   "mimetype": "text/x-python",
   "name": "python",
   "nbconvert_exporter": "python",
   "pygments_lexer": "ipython3",
   "version": "3.7.4"
  }
 },
 "nbformat": 4,
 "nbformat_minor": 2
}
